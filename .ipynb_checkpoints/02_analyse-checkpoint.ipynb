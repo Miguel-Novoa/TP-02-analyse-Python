{
 "cells": [
  {
   "cell_type": "markdown",
   "id": "8e0e3065-7bd3-4c92-b390-e1de11e9c889",
   "metadata": {},
   "source": [
    "Partie 1 population"
   ]
  },
  {
   "cell_type": "markdown",
   "id": "8770af5b-2570-47df-baed-5f87c911799d",
   "metadata": {},
   "source": [
    "Données :"
   ]
  },
  {
   "cell_type": "code",
   "execution_count": 24,
   "id": "2193861d-a9c8-4c4d-8b86-88e54817e470",
   "metadata": {
    "tags": []
   },
   "outputs": [],
   "source": [
    "populations = [\n",
    "    { \"id\" : 0, \"name\" : \"Alan\" },\n",
    "    { \"id\" : 1, \"name\" : \"Albert\" },\n",
    "    { \"id\" : 2, \"name\" : \"John\" },\n",
    "    { \"id\" : 3, \"name\" : \"Brice\" },\n",
    "    { \"id\" : 4, \"name\" : \"Alexendra\" },\n",
    "    { \"id\" : 5, \"name\" : \"Brad\" },\n",
    "    { \"id\" : 6, \"name\" : \"Carl\" },\n",
    "    { \"id\" : 7, \"name\" : \"Dallas\" },\n",
    "    { \"id\" : 8, \"name\" : \"Dennis\" },\n",
    "    { \"id\" : 9, \"name\" : \"Edgar\" },\n",
    "    { \"id\" : 10, \"name\" : \"Erika\" },\n",
    "    { \"id\" : 11, \"name\" : \"Isaac\" },\n",
    "    { \"id\" : 12, \"name\" : \"Ian\" }\n",
    "]\n",
    "\n",
    "relationships = [\n",
    "    (0,1), (0,2), (1,2), (1,4),(2,3), (2,5),\n",
    "    (3,4), (3,7), (4,5),(4,8), (4,9), (5,7),\n",
    "    (5,9), (6,7), (6,8), (7,1), (7,8), (8,9),\n",
    "    (10,1),(10,2),(10,3),(11,12),(11,2),(11,5)\n",
    "]"
   ]
  },
  {
   "cell_type": "markdown",
   "id": "90b8dfb5-3c9d-46f2-8e0b-c24bd82e13ef",
   "metadata": {},
   "source": [
    "1) Modifiez la liste populations pour ajouter les relations (liste relationships) de chaque user de cette population, vous pouvez par exemple ajoutez une clé \"relation\" ainsi qu'une liste vide dans un premier temps. Puis placez les relations de chaque user dans la liste populations en utilisant relationships."
   ]
  },
  {
   "cell_type": "code",
   "execution_count": 25,
   "id": "59d7ec63-931f-4af5-854b-fe27437a3cf0",
   "metadata": {
    "tags": []
   },
   "outputs": [
    {
     "name": "stdout",
     "output_type": "stream",
     "text": [
      "Nouvelle liste contenant les relations :\n",
      "{'id': 0, 'name': 'Alan', 'relations': [(0, 1), (0, 2)]}\n",
      "{'id': 1, 'name': 'Albert', 'relations': [(0, 1), (1, 2), (1, 4), (7, 1), (10, 1)]}\n",
      "{'id': 2, 'name': 'John', 'relations': [(0, 2), (1, 2), (2, 3), (2, 5), (10, 2), (11, 2)]}\n",
      "{'id': 3, 'name': 'Brice', 'relations': [(2, 3), (3, 4), (3, 7), (10, 3)]}\n",
      "{'id': 4, 'name': 'Alexendra', 'relations': [(1, 4), (3, 4), (4, 5), (4, 8), (4, 9)]}\n",
      "{'id': 5, 'name': 'Brad', 'relations': [(2, 5), (4, 5), (5, 7), (5, 9), (11, 5)]}\n",
      "{'id': 6, 'name': 'Carl', 'relations': [(6, 7), (6, 8)]}\n",
      "{'id': 7, 'name': 'Dallas', 'relations': [(3, 7), (5, 7), (6, 7), (7, 1), (7, 8)]}\n",
      "{'id': 8, 'name': 'Dennis', 'relations': [(4, 8), (6, 8), (7, 8), (8, 9)]}\n",
      "{'id': 9, 'name': 'Edgar', 'relations': [(4, 9), (5, 9), (8, 9)]}\n",
      "{'id': 10, 'name': 'Erika', 'relations': [(10, 1), (10, 2), (10, 3)]}\n",
      "{'id': 11, 'name': 'Isaac', 'relations': [(11, 12), (11, 2), (11, 5)]}\n",
      "{'id': 12, 'name': 'Ian', 'relations': [(11, 12)]}\n"
     ]
    }
   ],
   "source": [
    "for person in populations:\n",
    "    person['relations'] = []\n",
    "\n",
    "for relation in relationships:\n",
    "    userId1, userId2 = relation\n",
    "    populations[userId1][\"relations\"].append(relation)\n",
    "    populations[userId2][\"relations\"].append(relation)\n",
    "\n",
    "print(\"Nouvelle liste contenant les relations :\")\n",
    "for user in populations:\n",
    "    print(user)"
   ]
  },
  {
   "cell_type": "markdown",
   "id": "1825a4ce-ea0a-436a-a460-fa3aaaee98ea",
   "metadata": {},
   "source": [
    "2) Calculer la moyenne des relations."
   ]
  },
  {
   "cell_type": "code",
   "execution_count": 26,
   "id": "15fd9a82-6840-4fa5-baf1-52a6b4b49a41",
   "metadata": {
    "tags": []
   },
   "outputs": [
    {
     "name": "stdout",
     "output_type": "stream",
     "text": [
      "La moyenne des relations est : 3.69\n"
     ]
    }
   ],
   "source": [
    "totalRelations = 0\n",
    "for user in populations:\n",
    "    totalRelations += len(user['relations'])\n",
    "\n",
    "moyenne = round(totalRelations / len(populations), 2)\n",
    "\n",
    "print(f\"La moyenne des relations est : {moyenne}\")"
   ]
  },
  {
   "cell_type": "markdown",
   "id": "681f5f68-c9b7-4c6e-8abf-6548e9dc5e8e",
   "metadata": {},
   "source": [
    "3) Créez une liste représentant les users (id) et le nombre de relation(s) qu'ils possèdent. Et retournez l'utilisateur qui possède le plus de relation(s)."
   ]
  },
  {
   "cell_type": "code",
   "execution_count": 27,
   "id": "a938b5bc-3d1c-4974-8f17-d8e96074aefd",
   "metadata": {
    "tags": []
   },
   "outputs": [
    {
     "name": "stdout",
     "output_type": "stream",
     "text": [
      "La nouvelle liste contenant le nombre de relations par utilisateur est : \n",
      "{'id': 0, 'nbRelations': 2}\n",
      "{'id': 1, 'nbRelations': 5}\n",
      "{'id': 2, 'nbRelations': 6}\n",
      "{'id': 3, 'nbRelations': 4}\n",
      "{'id': 4, 'nbRelations': 5}\n",
      "{'id': 5, 'nbRelations': 5}\n",
      "{'id': 6, 'nbRelations': 2}\n",
      "{'id': 7, 'nbRelations': 5}\n",
      "{'id': 8, 'nbRelations': 4}\n",
      "{'id': 9, 'nbRelations': 3}\n",
      "{'id': 10, 'nbRelations': 3}\n",
      "{'id': 11, 'nbRelations': 3}\n",
      "{'id': 12, 'nbRelations': 1}\n"
     ]
    }
   ],
   "source": [
    "nbRelationsByUser = []\n",
    "\n",
    "for user in populations:\n",
    "    nbRelationsByUser.append({'id' : user['id'], 'nbRelations' : len(user['relations'])})\n",
    "\n",
    "print('La nouvelle liste contenant le nombre de relations par utilisateur est : ')\n",
    "for user in nbRelationsByUser :\n",
    "      print(user)\n"
   ]
  },
  {
   "cell_type": "code",
   "execution_count": 28,
   "id": "d9a11096-d4cb-4414-a7e3-17346a2d1f35",
   "metadata": {
    "tags": []
   },
   "outputs": [
    {
     "name": "stdout",
     "output_type": "stream",
     "text": [
      "L'utilisateur avec le plus de relations est : \n",
      "John\n"
     ]
    }
   ],
   "source": [
    "userWithMostRelations = max(nbRelationsByUser, key=lambda x: x[\"nbRelations\"])\n",
    "\n",
    "print('L\\'utilisateur avec le plus de relations est : ')\n",
    "print(populations[userWithMostRelations['id']]['name'])"
   ]
  },
  {
   "cell_type": "markdown",
   "id": "859e1368-e948-4b37-9d24-ce938a98375f",
   "metadata": {},
   "source": [
    "4) Trouvez les amis des amis de chaque utilisateur."
   ]
  },
  {
   "cell_type": "code",
   "execution_count": 45,
   "id": "184e4fdb-c766-41ce-ba01-e6a4c17a2089",
   "metadata": {
    "tags": []
   },
   "outputs": [
    {
     "name": "stdout",
     "output_type": "stream",
     "text": [
      "Amis des amis de Alan : ['Albert', 'Alexendra', 'John', 'Dallas', 'Brice', 'Isaac', 'Erika', 'Brad']\n",
      "Amis des amis de Albert : ['Alexendra', 'John', 'Brice', 'Dallas', 'Alan', 'Isaac', 'Dennis', 'Erika', 'Carl', 'Edgar', 'Brad']\n",
      "Amis des amis de John : ['Albert', 'Alexendra', 'Dallas', 'Brice', 'Alan', 'Isaac', 'Erika', 'Edgar', 'Brad', 'Ian']\n",
      "Amis des amis de Brice : ['Albert', 'Alexendra', 'John', 'Dallas', 'Alan', 'Isaac', 'Dennis', 'Erika', 'Carl', 'Edgar', 'Brad']\n",
      "Amis des amis de Alexendra : ['Albert', 'John', 'Dallas', 'Brice', 'Alan', 'Isaac', 'Dennis', 'Erika', 'Carl', 'Edgar', 'Brad']\n",
      "Amis des amis de Brad : ['Albert', 'Alexendra', 'John', 'Brice', 'Dallas', 'Alan', 'Isaac', 'Dennis', 'Erika', 'Carl', 'Edgar', 'Ian']\n",
      "Amis des amis de Carl : ['Albert', 'Alexendra', 'Dallas', 'Brice', 'Dennis', 'Edgar', 'Brad']\n",
      "Amis des amis de Dallas : ['Albert', 'Alexendra', 'John', 'Brice', 'Alan', 'Isaac', 'Dennis', 'Erika', 'Carl', 'Edgar', 'Brad']\n",
      "Amis des amis de Dennis : ['Albert', 'Alexendra', 'Brice', 'Dallas', 'Carl', 'Edgar', 'Brad']\n",
      "Amis des amis de Edgar : ['Alexendra', 'Albert', 'Dallas', 'Brice', 'John', 'Dennis', 'Isaac', 'Carl', 'Brad']\n",
      "Amis des amis de Erika : ['Albert', 'Alexendra', 'John', 'Brice', 'Dallas', 'Alan', 'Isaac', 'Brad']\n",
      "Amis des amis de Isaac : ['Albert', 'Alexendra', 'John', 'Brice', 'Dallas', 'Alan', 'Erika', 'Edgar', 'Brad', 'Ian']\n",
      "Amis des amis de Ian : ['Isaac', 'Brad', 'John']\n"
     ]
    }
   ],
   "source": [
    "for user in populations:\n",
    "    user[\"amisDesAmis\"] = []\n",
    "\n",
    "for user in populations:\n",
    "    userId = user[\"id\"]\n",
    "    amisIds = [friendId for tup in user[\"relations\"] for friendId in tup]\n",
    "    amisIds = list(set(amisIds))  \n",
    "    amisIds.remove(userId)  \n",
    "    \n",
    "    amisDesAmis = []\n",
    "    for amiId in amisIds:\n",
    "        amisDeAmi = [populations[friendId][\"name\"] for tup in populations[amiId][\"relations\"] for friendId in tup]\n",
    "        amisDeAmi = list(set(amisDeAmi))\n",
    "        amisDeAmi.remove(user[\"name\"])\n",
    "        amisDesAmis.extend(amisDeAmi)\n",
    "\n",
    "    user[\"amisDesAmis\"] = list(set(amisDesAmis))\n",
    "\n",
    "for user in populations:\n",
    "    print(f\"Amis des amis de {user['name']} : {user['amisDesAmis']}\")"
   ]
  },
  {
   "cell_type": "raw",
   "id": "46e5a0d0-cc86-4076-9541-7434f67abfe1",
   "metadata": {},
   "source": []
  },
  {
   "cell_type": "raw",
   "id": "4a5123af-ea93-4b40-903d-52317f0ae538",
   "metadata": {},
   "source": []
  },
  {
   "cell_type": "markdown",
   "id": "bb4b90a0-53d0-4b85-9609-fd5828800ba0",
   "metadata": {},
   "source": [
    "Partie 2 level"
   ]
  },
  {
   "cell_type": "raw",
   "id": "b2f30465-559b-45c6-989c-b8af36079578",
   "metadata": {},
   "source": []
  },
  {
   "cell_type": "markdown",
   "id": "30c02c86-d9f3-4ba9-b41f-7a157608e4da",
   "metadata": {},
   "source": [
    "Données :"
   ]
  },
  {
   "cell_type": "code",
   "execution_count": 46,
   "id": "da157a1e-a779-40ee-b341-568134da89fb",
   "metadata": {
    "tags": []
   },
   "outputs": [],
   "source": [
    "students = [\n",
    "    \"Alan\",\n",
    "    \"Albert\",\n",
    "    \"Jhon\",\n",
    "    \"Brice\",\n",
    "    \"Alexendra\",\n",
    "    \"Brad\",\n",
    "    \"Carl\",\n",
    "    \"Dallas\",\n",
    "    \"Dennis\",\n",
    "    \"Edgar\",\n",
    "     \"Erika\",\n",
    "     \"Isaac\",\n",
    "    \"Ian\" \n",
    "]\n",
    "\n",
    "levels = [4,2,3,5,7,8,2,6,4,3,5, 7, 5]"
   ]
  },
  {
   "cell_type": "markdown",
   "id": "775c434a-4e56-4214-ae20-c8f10ddb31c9",
   "metadata": {},
   "source": [
    "Soit les deux listes suivantes : students et levels ces deux listes sont de même longueur et correspondent respectivement aux noms des étudiants et à leur niveau d'étude, à l'aide de la fonction zip et d'une itération affichez le nom et le niveau de chaque étudiant."
   ]
  },
  {
   "cell_type": "code",
   "execution_count": 50,
   "id": "e1e50a0e-70c3-4f11-9a58-3b9d8a049b06",
   "metadata": {
    "tags": []
   },
   "outputs": [
    {
     "name": "stdout",
     "output_type": "stream",
     "text": [
      "Le niveau d'études de chaque étudiant est : \n",
      "Alan : 4\n",
      "Albert : 2\n",
      "Jhon : 3\n",
      "Brice : 5\n",
      "Alexendra : 7\n",
      "Brad : 8\n",
      "Carl : 2\n",
      "Dallas : 6\n",
      "Dennis : 4\n",
      "Edgar : 3\n",
      "Erika : 5\n",
      "Isaac : 7\n",
      "Ian : 5\n"
     ]
    }
   ],
   "source": [
    "zipped = zip(students, levels)\n",
    "\n",
    "print('Le niveau d\\'études de chaque étudiant est : ')\n",
    "for student in zipped:\n",
    "    print(f\"{student[0]} : {student[1]}\")"
   ]
  },
  {
   "cell_type": "raw",
   "id": "57a3dcf3-5c45-4cc6-a89a-5314deb48eec",
   "metadata": {},
   "source": []
  },
  {
   "cell_type": "raw",
   "id": "c11e8770-6ae2-4d3c-af47-00a4dc54707e",
   "metadata": {},
   "source": []
  },
  {
   "cell_type": "markdown",
   "id": "8142aed3-2d13-4f39-893b-aea08a4d744f",
   "metadata": {},
   "source": [
    "Partie 3 centres d'intérêts"
   ]
  },
  {
   "cell_type": "raw",
   "id": "5b55df9e-ac70-472a-9ef8-2d1526bcc6f1",
   "metadata": {},
   "source": []
  },
  {
   "cell_type": "markdown",
   "id": "87d6f9d9-ec60-4140-8671-64430c651806",
   "metadata": {},
   "source": [
    "Données : "
   ]
  },
  {
   "cell_type": "code",
   "execution_count": 51,
   "id": "0d521a81-0176-497b-b8c4-1211f47068c8",
   "metadata": {
    "tags": []
   },
   "outputs": [],
   "source": [
    "populations = [\n",
    "    { \"id\" : 0, \"name\" : \"Alan\" },\n",
    "    { \"id\" : 1, \"name\" : \"Albert\" },\n",
    "    { \"id\" : 2, \"name\" : \"Jhon\" },\n",
    "    { \"id\" : 3, \"name\" : \"Brice\" },\n",
    "    { \"id\" : 4, \"name\" : \"Alexendra\" },\n",
    "    { \"id\" : 5, \"name\" : \"Brad\" },\n",
    "    { \"id\" : 6, \"name\" : \"Carl\" },\n",
    "    { \"id\" : 7, \"name\" : \"Dallas\" },\n",
    "    { \"id\" : 8, \"name\" : \"Dennis\" },\n",
    "    { \"id\" : 9, \"name\" : \"Edgar\" },\n",
    "    { \"id\" : 10, \"name\" : \"Erika\" },\n",
    "    { \"id\" : 11, \"name\" : \"Isaac\" },\n",
    "    { \"id\" : 13, \"name\" : \"Brice\" },\n",
    "    { \"id\" : 14, \"name\" : \"Alice\" },\n",
    "    { \"id\" : 15, \"name\" : \"Sophia\" },\n",
    "    { \"id\" : 16, \"name\" : \"Rasmus\" },\n",
    "    { \"id\" : 18, \"name\" : \"Taylor\" },\n",
    "    { \"id\" : 19, \"name\" : \"Olivia\" },\n",
    "    { \"id\" : 20, \"name\" : \"Jessica\" },\n",
    "    { \"id\" : 21, \"name\" : \"Anna\" },\n",
    "    { \"id\" : 22, \"name\" : \"Samantha\" },\n",
    "    { \"id\" : 23, \"name\" : \"Grace\" },\n",
    "    { \"id\" : 24, \"name\" : \"Anna\" },\n",
    "    { \"id\" : 25, \"name\" : \"Alexis\" },\n",
    "    { \"id\" : 26, \"name\" : \"Madison\" },\n",
    "    { \"id\" : 27, \"name\" : \"Nicole\" },\n",
    "    { \"id\" : 28, \"name\" : \"Amanda\" },\n",
    "    { \"id\" : 29, \"name\" : \"Haley\" }  \n",
    "]\n",
    "\n",
    "centers = [\n",
    "    (0, 'PHP'), (0, 'MySQL'), (0, 'Angular'), (1, 'MySQL'), (2, 'Python'), (3, 'PHP'), (4, 'PHP'), \n",
    "    (5, 'Angular'), (6, 'Vuejs'), (7, 'Angular'), (8, 'Big data'), (9, 'PHP'), \n",
    "    (10, 'Angular'), (10, 'NoSQL'), (11, 'NoSQL'), (12, 'Angular'), (13, 'Angular'), (14, 'Angular'), \n",
    "    (15, 'Angular'), (16, 'Angular'), (17, 'PHP'), (18, 'PHP'), (19, 'PHP'), (19,'Angular'), (19, 'Python'),\n",
    "    (20, 'Python'), (21, 'Python'), (22, 'Python'), (23, 'Python'), (24, 'PHP'), \n",
    "    (25, 'NoSQL'), (26, 'NoSQL'), (27, 'Big data'), (28, 'NoSQL'), (29, 'Angular'), (29, 'PHP'), (29,'Big data')\n",
    "]"
   ]
  },
  {
   "cell_type": "markdown",
   "id": "4e2c67ee-6b50-4262-a90d-517176eea7ac",
   "metadata": {},
   "source": [
    "Ecrire une fonction qui retourne tous les utilisateurs qui partagent le même centre d'intérêt."
   ]
  },
  {
   "cell_type": "code",
   "execution_count": 56,
   "id": "9ab4e780-89c0-4426-aa66-0fcaaf67605c",
   "metadata": {
    "tags": []
   },
   "outputs": [
    {
     "name": "stdout",
     "output_type": "stream",
     "text": [
      "Utilisateurs partageant le centre d'intérêt PHP: ['Alan', 'Brice', 'Alexendra', 'Edgar', 'Taylor', 'Olivia', 'Anna', 'Haley']\n",
      "Utilisateurs partageant le centre d'intérêt MySQL: ['Alan', 'Albert']\n",
      "Utilisateurs partageant le centre d'intérêt Angular: ['Alan', 'Brad', 'Dallas', 'Erika', 'Brice', 'Alice', 'Sophia', 'Rasmus', 'Olivia', 'Haley']\n",
      "Utilisateurs partageant le centre d'intérêt Python: ['Jhon', 'Olivia', 'Jessica', 'Anna', 'Samantha', 'Grace']\n",
      "Utilisateurs partageant le centre d'intérêt Vuejs: ['Carl']\n",
      "Utilisateurs partageant le centre d'intérêt Big data: ['Dennis', 'Nicole', 'Haley']\n",
      "Utilisateurs partageant le centre d'intérêt NoSQL: ['Erika', 'Isaac', 'Alexis', 'Madison', 'Amanda']\n"
     ]
    }
   ],
   "source": [
    "def usersWithSameInterest(centers, interest):\n",
    "    matchingUsers = [user[\"name\"] for user in populations if (user[\"id\"], interest) in centers]\n",
    "    return matchingUsers\n",
    "\n",
    "print(f\"Utilisateurs partageant le centre d'intérêt PHP: {usersWithSameInterest(centers, 'PHP')}\")\n",
    "print(f\"Utilisateurs partageant le centre d'intérêt MySQL: {usersWithSameInterest(centers, 'MySQL')}\")\n",
    "print(f\"Utilisateurs partageant le centre d'intérêt Angular: {usersWithSameInterest(centers, 'Angular')}\")\n",
    "print(f\"Utilisateurs partageant le centre d'intérêt Python: {usersWithSameInterest(centers, 'Python')}\")\n",
    "print(f\"Utilisateurs partageant le centre d'intérêt Vuejs: {usersWithSameInterest(centers, 'Vuejs')}\")\n",
    "print(f\"Utilisateurs partageant le centre d'intérêt Big data: {usersWithSameInterest(centers, 'Big data')}\")\n",
    "print(f\"Utilisateurs partageant le centre d'intérêt NoSQL: {usersWithSameInterest(centers, 'NoSQL')}\")"
   ]
  },
  {
   "cell_type": "raw",
   "id": "a2f1f2db-f1c0-4cec-aa4a-3f2dd43ec947",
   "metadata": {},
   "source": []
  },
  {
   "cell_type": "raw",
   "id": "9a40d9f3-04fe-4720-b553-f904db390318",
   "metadata": {},
   "source": []
  },
  {
   "cell_type": "markdown",
   "id": "d45341a7-7313-455f-ab80-78257c32350e",
   "metadata": {},
   "source": [
    "Partie 4 Modélisation"
   ]
  },
  {
   "cell_type": "raw",
   "id": "054621f7-6bb1-4855-84f3-8ff5725f15cd",
   "metadata": {},
   "source": []
  },
  {
   "cell_type": "markdown",
   "id": "a0932dc0-87a8-419a-aa00-86373a0d21fe",
   "metadata": {},
   "source": [
    "Pour vos résultats de la partie 1 et 2.\n",
    "\n",
    "Creez un model ( une classe ) pour enregistrer les données nettoyées, que vous allez enregistrer dans une table ou un ficher.\n",
    "\n",
    "Visualisez les données en console, par exemple, pour vérifier qu'elles sont correctectement importées"
   ]
  },
  {
   "cell_type": "code",
   "execution_count": null,
   "id": "ab220b38-97b8-40cf-96d7-981467e55f1b",
   "metadata": {},
   "outputs": [],
   "source": []
  }
 ],
 "metadata": {
  "kernelspec": {
   "display_name": "Python 3 (ipykernel)",
   "language": "python",
   "name": "python3"
  },
  "language_info": {
   "codemirror_mode": {
    "name": "ipython",
    "version": 3
   },
   "file_extension": ".py",
   "mimetype": "text/x-python",
   "name": "python",
   "nbconvert_exporter": "python",
   "pygments_lexer": "ipython3",
   "version": "3.11.5"
  }
 },
 "nbformat": 4,
 "nbformat_minor": 5
}
